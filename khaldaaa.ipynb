{
  "nbformat": 4,
  "nbformat_minor": 0,
  "metadata": {
    "colab": {
      "name": "khaldaaa.ipynb",
      "provenance": [],
      "authorship_tag": "ABX9TyONlQZZYsQjYkZB1texl94/",
      "include_colab_link": true
    },
    "kernelspec": {
      "name": "python3",
      "display_name": "Python 3"
    }
  },
  "cells": [
    {
      "cell_type": "markdown",
      "metadata": {
        "id": "view-in-github",
        "colab_type": "text"
      },
      "source": [
        "<a href=\"https://colab.research.google.com/github/maysarahkhld/tugas-SKO/blob/main/khaldaaa.ipynb\" target=\"_parent\"><img src=\"https://colab.research.google.com/assets/colab-badge.svg\" alt=\"Open In Colab\"/></a>"
      ]
    },
    {
      "cell_type": "code",
      "metadata": {
        "id": "OyYFPwXe2Fv6"
      },
      "source": [
        "#Library\n",
        "import numpy as np\n",
        "import matplotlib.pyplot as plt"
      ],
      "execution_count": 1,
      "outputs": []
    },
    {
      "cell_type": "code",
      "metadata": {
        "id": "S1s7xhAK2UUu"
      },
      "source": [
        "#Diketahui\n",
        "phi = 3.14\n",
        "rs = np.arange(0,60) #jari jari daerah aktif\n",
        "bo = 2.65 # daya optik yang diradiasikan tegak lurus thdp permukaan emisi"
      ],
      "execution_count": 13,
      "outputs": []
    },
    {
      "cell_type": "code",
      "metadata": {
        "id": "J9G5mxlc2YUi"
      },
      "source": [
        "#Rumus\n",
        "rumus = (phi*2) * (rs*2) * (bo) #Ps dalam watt\n",
        "Ps = (10 * rumus) + 30 #Ps dalam Dbm"
      ],
      "execution_count": 14,
      "outputs": []
    },
    {
      "cell_type": "code",
      "metadata": {
        "colab": {
          "base_uri": "https://localhost:8080/",
          "height": 512
        },
        "id": "YE0LI9S82dNn",
        "outputId": "e5a077d4-4060-4981-a5aa-e9f38a88d0d6"
      },
      "source": [
        "#Plotting ke grafik\n",
        "\n",
        "plt.plot(rs,Ps)\n",
        "plt.title(\"Perbandingan antara Ps dengan rs\")\n",
        "plt.ylabel(\"Ps (Dbm)\")\n",
        "plt.xlabel(\"rs (cm)\")\n",
        "plt.show()\n",
        "print('Ps (Dbm)')\n",
        "print(Ps)\n",
        "print('rs (cm)')\n",
        "print(rs)"
      ],
      "execution_count": 15,
      "outputs": [
        {
          "output_type": "display_data",
          "data": {
            "image/png": "[encoded data removed]",
            "text/plain": [
              "<Figure size 432x288 with 1 Axes>"
            ]
          },
          "metadata": {
            "tags": [],
            "needs_background": "light"
          }
        },
        {
          "output_type": "stream",
          "text": [
            "Ps (Dbm)\n",
            "[   30.     362.84   695.68  1028.52  1361.36  1694.2   2027.04  2359.88\n",
            "  2692.72  3025.56  3358.4   3691.24  4024.08  4356.92  4689.76  5022.6\n",
            "  5355.44  5688.28  6021.12  6353.96  6686.8   7019.64  7352.48  7685.32\n",
            "  8018.16  8351.    8683.84  9016.68  9349.52  9682.36 10015.2  10348.04\n",
            " 10680.88 11013.72 11346.56 11679.4  12012.24 12345.08 12677.92 13010.76\n",
            " 13343.6  13676.44 14009.28 14342.12 14674.96 15007.8  15340.64 15673.48\n",
            " 16006.32 16339.16 16672.   17004.84 17337.68 17670.52 18003.36 18336.2\n",
            " 18669.04 19001.88 19334.72 19667.56]\n",
            "rs (cm)\n",
            "[ 0  1  2  3  4  5  6  7  8  9 10 11 12 13 14 15 16 17 18 19 20 21 22 23\n",
            " 24 25 26 27 28 29 30 31 32 33 34 35 36 37 38 39 40 41 42 43 44 45 46 47\n",
            " 48 49 50 51 52 53 54 55 56 57 58 59]\n"
          ],
          "name": "stdout"
        }
      ]
    },
    {
      "cell_type": "code",
      "metadata": {
        "id": "7SZRvOn02gcx"
      },
      "source": [
        ""
      ],
      "execution_count": null,
      "outputs": []
    },
    {
      "cell_type": "code",
      "metadata": {
        "id": "8IQUdteB4tmV"
      },
      "source": [
        "from google.colab import drive\n",
        "drive.mount('/content/drive')"
      ],
      "execution_count": null,
      "outputs": []
    }
  ]
}